{
 "cells": [
  {
   "cell_type": "code",
   "execution_count": 1,
   "metadata": {},
   "outputs": [
    {
     "name": "stderr",
     "output_type": "stream",
     "text": [
      "Using TensorFlow backend.\n"
     ]
    }
   ],
   "source": [
    "import numpy as np\n",
    "import pandas  as pd\n",
    "import tensorflow as tf\n",
    "from tensorflow import keras\n",
    "from keras.preprocessing.image import ImageDataGenerator\n",
    "from keras.preprocessing.image import image\n",
    "from keras.models import Sequential\n",
    "from keras.preprocessing.image import ImageDataGenerator ,array_to_img, img_to_array, load_img\n",
    "from tensorflow.keras.models import load_model\n",
    "from tensorflow.keras.preprocessing import image\n"
   ]
  },
  {
   "cell_type": "code",
   "execution_count": 2,
   "metadata": {},
   "outputs": [],
   "source": [
    "train_path = 'images/train'\n",
    "val_path = 'images/validation'"
   ]
  },
  {
   "cell_type": "code",
   "execution_count": 3,
   "metadata": {},
   "outputs": [],
   "source": [
    "\n",
    "train_datagen = ImageDataGenerator( rescale = 1./255,\n",
    "                                    rotation_range = 40,\n",
    "                                    width_shift_range = .2,\n",
    "                                    height_shift_range = .3,\n",
    "                                    shear_range = .3,\n",
    "                                    zoom_range = .2,\n",
    "                                    horizontal_flip = True,\n",
    "                                    fill_mode = 'nearest')"
   ]
  },
  {
   "cell_type": "code",
   "execution_count": 4,
   "metadata": {},
   "outputs": [
    {
     "name": "stdout",
     "output_type": "stream",
     "text": [
      "Found 28821 images belonging to 7 classes.\n"
     ]
    }
   ],
   "source": [
    "training_data = train_datagen.flow_from_directory(train_path,\n",
    "                                 target_size = (48,48),\n",
    "                                 batch_size=80,\n",
    "                                 class_mode = 'categorical',\n",
    "                                 color_mode = 'grayscale')"
   ]
  },
  {
   "cell_type": "code",
   "execution_count": 5,
   "metadata": {},
   "outputs": [
    {
     "name": "stdout",
     "output_type": "stream",
     "text": [
      "Found 7066 images belonging to 7 classes.\n"
     ]
    }
   ],
   "source": [
    "valid_datagen = ImageDataGenerator( rescale = 1./255)\n",
    "valid_data = train_datagen.flow_from_directory(val_path,\n",
    "                                 target_size = (48,48),\n",
    "                                 batch_size=80,\n",
    "                                 class_mode = 'categorical',\n",
    "                                 color_mode = 'grayscale')                                  "
   ]
  },
  {
   "cell_type": "code",
   "execution_count": 6,
   "metadata": {},
   "outputs": [
    {
     "data": {
      "text/plain": [
       "{'angry': 0,\n",
       " 'disgust': 1,\n",
       " 'fear': 2,\n",
       " 'happy': 3,\n",
       " 'neutral': 4,\n",
       " 'sad': 5,\n",
       " 'surprise': 6}"
      ]
     },
     "execution_count": 6,
     "metadata": {},
     "output_type": "execute_result"
    }
   ],
   "source": [
    "valid_data.class_indices"
   ]
  },
  {
   "cell_type": "code",
   "execution_count": 15,
   "metadata": {},
   "outputs": [],
   "source": [
    "model = tf.keras.models.Sequential([ tf.keras.layers.Conv2D(16,(3,3), activation = 'relu', input_shape = (48,48,1)),\n",
    "                                     tf.keras.layers.MaxPool2D(2,2),\n",
    "                                    \n",
    "                                    tf.keras.layers.Conv2D(32,(3,3), activation = 'relu'),\n",
    "                                    tf.keras.layers.MaxPool2D(2,2),\n",
    "                                    \n",
    "                                    tf.keras.layers.Conv2D(64,(3,3), activation = 'relu'),\n",
    "                                    tf.keras.layers.MaxPool2D(2,2),\n",
    "                                    \n",
    "                                    \n",
    "                                    tf.keras.layers.Flatten(),\n",
    "                                    \n",
    "                                    tf.keras.layers.Dense(256, activation = 'relu'),\n",
    "                                    \n",
    "                                    tf.keras.layers.Dense(7, activation = 'softmax')\n",
    "                                    \n",
    "    \n",
    "    \n",
    "    \n",
    "])"
   ]
  },
  {
   "cell_type": "code",
   "execution_count": 16,
   "metadata": {},
   "outputs": [
    {
     "name": "stdout",
     "output_type": "stream",
     "text": [
      "Model: \"sequential_1\"\n",
      "_________________________________________________________________\n",
      "Layer (type)                 Output Shape              Param #   \n",
      "=================================================================\n",
      "conv2d_3 (Conv2D)            (None, 148, 148, 16)      160       \n",
      "_________________________________________________________________\n",
      "max_pooling2d_3 (MaxPooling2 (None, 74, 74, 16)        0         \n",
      "_________________________________________________________________\n",
      "conv2d_4 (Conv2D)            (None, 72, 72, 32)        4640      \n",
      "_________________________________________________________________\n",
      "max_pooling2d_4 (MaxPooling2 (None, 36, 36, 32)        0         \n",
      "_________________________________________________________________\n",
      "conv2d_5 (Conv2D)            (None, 34, 34, 64)        18496     \n",
      "_________________________________________________________________\n",
      "max_pooling2d_5 (MaxPooling2 (None, 17, 17, 64)        0         \n",
      "_________________________________________________________________\n",
      "flatten_1 (Flatten)          (None, 18496)             0         \n",
      "_________________________________________________________________\n",
      "dense_2 (Dense)              (None, 256)               4735232   \n",
      "_________________________________________________________________\n",
      "dense_3 (Dense)              (None, 5)                 1285      \n",
      "=================================================================\n",
      "Total params: 4,759,813\n",
      "Trainable params: 4,759,813\n",
      "Non-trainable params: 0\n",
      "_________________________________________________________________\n"
     ]
    }
   ],
   "source": [
    "model.summary()"
   ]
  },
  {
   "cell_type": "code",
   "execution_count": 17,
   "metadata": {},
   "outputs": [],
   "source": [
    "model.compile(loss = 'categorical_crossentropy',\n",
    "              optimizer ='adam',\n",
    "              metrics = ['accuracy'])  \n",
    "        \n",
    "         "
   ]
  },
  {
   "cell_type": "code",
   "execution_count": 19,
   "metadata": {},
   "outputs": [
    {
     "name": "stdout",
     "output_type": "stream",
     "text": [
      "Epoch 1/10\n",
      "6/6 [==============================] - 29s 5s/step - loss: 1.0211 - accuracy: 0.5521 - val_loss: 0.9842 - val_accuracy: 0.5875\n",
      "Epoch 2/10\n",
      "6/6 [==============================] - 30s 5s/step - loss: 0.9851 - accuracy: 0.5729 - val_loss: 1.0529 - val_accuracy: 0.5625\n",
      "Epoch 3/10\n",
      "6/6 [==============================] - 30s 5s/step - loss: 0.9408 - accuracy: 0.5854 - val_loss: 0.9452 - val_accuracy: 0.5896\n",
      "Epoch 4/10\n",
      "6/6 [==============================] - 31s 5s/step - loss: 0.8943 - accuracy: 0.6479 - val_loss: 0.8447 - val_accuracy: 0.6438\n",
      "Epoch 5/10\n",
      "6/6 [==============================] - 31s 6s/step - loss: 0.8111 - accuracy: 0.6729 - val_loss: 0.8175 - val_accuracy: 0.6687\n",
      "Epoch 6/10\n",
      "6/6 [==============================] - 29s 5s/step - loss: 0.8276 - accuracy: 0.6646 - val_loss: 0.7351 - val_accuracy: 0.6833\n",
      "Epoch 7/10\n",
      "6/6 [==============================] - 29s 5s/step - loss: 0.7566 - accuracy: 0.6958 - val_loss: 0.7037 - val_accuracy: 0.7312\n",
      "Epoch 8/10\n",
      "6/6 [==============================] - 29s 5s/step - loss: 0.7014 - accuracy: 0.7292 - val_loss: 0.7063 - val_accuracy: 0.7125\n",
      "Epoch 9/10\n",
      "6/6 [==============================] - 35s 6s/step - loss: 0.6908 - accuracy: 0.7188 - val_loss: 0.7095 - val_accuracy: 0.7188\n",
      "Epoch 10/10\n",
      "6/6 [==============================] - 34s 6s/step - loss: 0.6660 - accuracy: 0.7125 - val_loss: 0.6780 - val_accuracy: 0.7125\n"
     ]
    },
    {
     "data": {
      "text/plain": [
       "<tensorflow.python.keras.callbacks.History at 0x1c080cdf7b8>"
      ]
     },
     "execution_count": 19,
     "metadata": {},
     "output_type": "execute_result"
    }
   ],
   "source": [
    "model.fit(training_data,  validation_data = valid_data,  epochs = 10)"
   ]
  },
  {
   "cell_type": "code",
   "execution_count": 20,
   "metadata": {},
   "outputs": [],
   "source": [
    "from tensorflow.keras.models import load_model\n",
    "from tensorflow.keras.preprocessing import image\n",
    "model.save('model.h5')"
   ]
  },
  {
   "cell_type": "code",
   "execution_count": 11,
   "metadata": {},
   "outputs": [],
   "source": [
    "import matplotlib.pyplot as plt"
   ]
  },
  {
   "cell_type": "code",
   "execution_count": 12,
   "metadata": {},
   "outputs": [
    {
     "data": {
      "image/png": "[encoded data removed]",
      "text/plain": [
       "<Figure size 432x288 with 1 Axes>"
      ]
     },
     "metadata": {
      "needs_background": "light"
     },
     "output_type": "display_data"
    },
    {
     "data": {
      "image/png": "[encoded data removed]",
      "text/plain": [
       "<Figure size 432x288 with 1 Axes>"
      ]
     },
     "metadata": {
      "needs_background": "light"
     },
     "output_type": "display_data"
    }
   ],
   "source": [
    "# plot the loss\n",
    "plt.plot(model.history['loss'], label='train loss')\n",
    "plt.plot(model.history['val_loss'], label='val loss')\n",
    "plt.legend()\n",
    "plt.title('Training loss vs Validation loss')\n",
    "plt.show()\n",
    "#plt.savefig('LossVal_loss')\n",
    "\n",
    "# plot the accuracy\n",
    "plt.plot(model.history['accuracy'], label='train acc')\n",
    "plt.plot(model.history['val_accuracy'], label='val acc')\n",
    "plt.legend()\n",
    "plt.title('Training accuracy vs Validation accuracy')\n",
    "plt.show()\n",
    "#plt.savefig('AccVal_acc')"
   ]
  },
  {
   "cell_type": "code",
   "execution_count": null,
   "metadata": {},
   "outputs": [],
   "source": []
  }
 ],
 "metadata": {
  "kernelspec": {
   "display_name": "Python 3",
   "language": "python",
   "name": "python3"
  },
  "language_info": {
   "codemirror_mode": {
    "name": "ipython",
    "version": 3
   },
   "file_extension": ".py",
   "mimetype": "text/x-python",
   "name": "python",
   "nbconvert_exporter": "python",
   "pygments_lexer": "ipython3",
   "version": "3.6.12"
  }
 },
 "nbformat": 4,
 "nbformat_minor": 4
}
